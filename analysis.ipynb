{
 "cells": [
  {
   "cell_type": "markdown",
   "metadata": {},
   "source": [
    "# Stock Volatility \n",
    "\n",
    "#### David Montoto\n",
    "#### Vatsal Bagri"
   ]
  },
  {
   "cell_type": "markdown",
   "metadata": {},
   "source": [
    "About:"
   ]
  },
  {
   "cell_type": "code",
   "execution_count": 1,
   "metadata": {},
   "outputs": [],
   "source": [
    "import pandas as pd\n",
    "import numpy as np\n",
    "import matplotlib as plt\n",
    "import matplotlib.pyplot as plt\n",
    "import seaborn as sns\n",
    "from datetime import datetime, timedelta\n",
    "from sklearn.cluster import KMeans\n",
    "from sklearn.metrics import silhouette_score\n",
    "from sklearn.mixture import GaussianMixture\n",
    "from sklearn.decomposition import PCA\n",
    "from sklearn.metrics import mean_absolute_error, mean_squared_error\n",
    "import torch\n",
    "from torch import nn\n",
    "from sklearn.model_selection import train_test_split"
   ]
  },
  {
   "cell_type": "markdown",
   "metadata": {},
   "source": [
    "### Dataset 1 - Stock data from Yahoo Finance\n",
    "\n",
    "Our initial dataset, a collection of stocks along with their varying prices and dividends with the given data, are provided from Yahoo Finance. Most of the data is easy to work with as it has been polished. However, the 'Date' category can be simplified to just the provided date not including time. "
   ]
  },
  {
   "cell_type": "code",
   "execution_count": null,
   "metadata": {},
   "outputs": [
    {
     "ename": "",
     "evalue": "",
     "output_type": "error",
     "traceback": [
      "\u001b[1;31mRunning cells with '/opt/homebrew/opt/python@3.12/libexec/bin/python' requires the ipykernel package.\n",
      "\u001b[1;31mRun the following command to install 'ipykernel' into the Python environment. \n",
      "\u001b[1;31mCommand: '/opt/homebrew/opt/python@3.12/libexec/bin/python -m pip install ipykernel -U --user --force-reinstall'"
     ]
    }
   ],
   "source": [
    "df1_initial = pd.read_csv('data/stock_details_5_years.csv', header = 0)\n",
    "df1_initial.head()"
   ]
  },
  {
   "cell_type": "code",
   "execution_count": 13,
   "metadata": {},
   "outputs": [
    {
     "data": {
      "text/html": [
       "<div>\n",
       "<style scoped>\n",
       "    .dataframe tbody tr th:only-of-type {\n",
       "        vertical-align: middle;\n",
       "    }\n",
       "\n",
       "    .dataframe tbody tr th {\n",
       "        vertical-align: top;\n",
       "    }\n",
       "\n",
       "    .dataframe thead th {\n",
       "        text-align: right;\n",
       "    }\n",
       "</style>\n",
       "<table border=\"1\" class=\"dataframe\">\n",
       "  <thead>\n",
       "    <tr style=\"text-align: right;\">\n",
       "      <th></th>\n",
       "      <th>Date</th>\n",
       "      <th>Open</th>\n",
       "      <th>High</th>\n",
       "      <th>Low</th>\n",
       "      <th>Close</th>\n",
       "      <th>Volume</th>\n",
       "      <th>Dividends</th>\n",
       "      <th>Stock Splits</th>\n",
       "      <th>Company</th>\n",
       "    </tr>\n",
       "  </thead>\n",
       "  <tbody>\n",
       "    <tr>\n",
       "      <th>0</th>\n",
       "      <td>2018-11-29</td>\n",
       "      <td>43.829761</td>\n",
       "      <td>43.863354</td>\n",
       "      <td>42.639594</td>\n",
       "      <td>43.083508</td>\n",
       "      <td>167080000</td>\n",
       "      <td>0.00</td>\n",
       "      <td>0.0</td>\n",
       "      <td>AAPL</td>\n",
       "    </tr>\n",
       "    <tr>\n",
       "      <th>1</th>\n",
       "      <td>2018-11-29</td>\n",
       "      <td>104.769074</td>\n",
       "      <td>105.519257</td>\n",
       "      <td>103.534595</td>\n",
       "      <td>104.636131</td>\n",
       "      <td>28123200</td>\n",
       "      <td>0.00</td>\n",
       "      <td>0.0</td>\n",
       "      <td>MSFT</td>\n",
       "    </tr>\n",
       "    <tr>\n",
       "      <th>2</th>\n",
       "      <td>2018-11-29</td>\n",
       "      <td>54.176498</td>\n",
       "      <td>55.007500</td>\n",
       "      <td>54.099998</td>\n",
       "      <td>54.729000</td>\n",
       "      <td>31004000</td>\n",
       "      <td>0.00</td>\n",
       "      <td>0.0</td>\n",
       "      <td>GOOGL</td>\n",
       "    </tr>\n",
       "    <tr>\n",
       "      <th>3</th>\n",
       "      <td>2018-11-29</td>\n",
       "      <td>83.749496</td>\n",
       "      <td>84.499496</td>\n",
       "      <td>82.616501</td>\n",
       "      <td>83.678497</td>\n",
       "      <td>132264000</td>\n",
       "      <td>0.00</td>\n",
       "      <td>0.0</td>\n",
       "      <td>AMZN</td>\n",
       "    </tr>\n",
       "    <tr>\n",
       "      <th>4</th>\n",
       "      <td>2018-11-29</td>\n",
       "      <td>39.692784</td>\n",
       "      <td>40.064904</td>\n",
       "      <td>38.735195</td>\n",
       "      <td>39.037853</td>\n",
       "      <td>54917200</td>\n",
       "      <td>0.04</td>\n",
       "      <td>0.0</td>\n",
       "      <td>NVDA</td>\n",
       "    </tr>\n",
       "  </tbody>\n",
       "</table>\n",
       "</div>"
      ],
      "text/plain": [
       "        Date        Open        High         Low       Close     Volume  \\\n",
       "0 2018-11-29   43.829761   43.863354   42.639594   43.083508  167080000   \n",
       "1 2018-11-29  104.769074  105.519257  103.534595  104.636131   28123200   \n",
       "2 2018-11-29   54.176498   55.007500   54.099998   54.729000   31004000   \n",
       "3 2018-11-29   83.749496   84.499496   82.616501   83.678497  132264000   \n",
       "4 2018-11-29   39.692784   40.064904   38.735195   39.037853   54917200   \n",
       "\n",
       "   Dividends  Stock Splits Company  \n",
       "0       0.00           0.0    AAPL  \n",
       "1       0.00           0.0    MSFT  \n",
       "2       0.00           0.0   GOOGL  \n",
       "3       0.00           0.0    AMZN  \n",
       "4       0.04           0.0    NVDA  "
      ]
     },
     "execution_count": 13,
     "metadata": {},
     "output_type": "execute_result"
    }
   ],
   "source": [
    "df1_initial['Date'] = pd.to_datetime(df1_initial['Date'].str.extract(r'(\\d{4}-\\d{2}-\\d{2})')[0])\n",
    "df1_initial.head()"
   ]
  },
  {
   "cell_type": "markdown",
   "metadata": {},
   "source": [
    "### Data 2 - Volatility Data For Each Company (Computed and Wrangled From Data set 1)\n",
    "\n",
    "We will create a second dataset. This dataset will be taken from a subset of the date from out first created dataset. We aim to group different stocks by volatility. This data is grouped seperately because it will be used seperately from the rest of the data in dataset 1. "
   ]
  },
  {
   "cell_type": "code",
   "execution_count": 17,
   "metadata": {},
   "outputs": [
    {
     "data": {
      "text/html": [
       "<div>\n",
       "<style scoped>\n",
       "    .dataframe tbody tr th:only-of-type {\n",
       "        vertical-align: middle;\n",
       "    }\n",
       "\n",
       "    .dataframe tbody tr th {\n",
       "        vertical-align: top;\n",
       "    }\n",
       "\n",
       "    .dataframe thead th {\n",
       "        text-align: right;\n",
       "    }\n",
       "</style>\n",
       "<table border=\"1\" class=\"dataframe\">\n",
       "  <thead>\n",
       "    <tr style=\"text-align: right;\">\n",
       "      <th></th>\n",
       "      <th>Company</th>\n",
       "      <th>perc_change</th>\n",
       "    </tr>\n",
       "  </thead>\n",
       "  <tbody>\n",
       "    <tr>\n",
       "      <th>0</th>\n",
       "      <td>A</td>\n",
       "      <td>[0.4773218052326546, 1.0051671761984158, 1.827...</td>\n",
       "    </tr>\n",
       "    <tr>\n",
       "      <th>1</th>\n",
       "      <td>AAPL</td>\n",
       "      <td>[1.702617183838854, 0.9484672021502785, 0.1951...</td>\n",
       "    </tr>\n",
       "    <tr>\n",
       "      <th>2</th>\n",
       "      <td>ABBV</td>\n",
       "      <td>[1.011124035815082, 4.442714837058878, 0.69974...</td>\n",
       "    </tr>\n",
       "    <tr>\n",
       "      <th>3</th>\n",
       "      <td>ABEV</td>\n",
       "      <td>[0.7025810290951009, 0.2347359508779906, 0.689...</td>\n",
       "    </tr>\n",
       "    <tr>\n",
       "      <th>5</th>\n",
       "      <td>ABT</td>\n",
       "      <td>[1.1459365284516383, 0.1623194184859994, 0.026...</td>\n",
       "    </tr>\n",
       "    <tr>\n",
       "      <th>6</th>\n",
       "      <td>ACGL</td>\n",
       "      <td>[0.38910046417311844, 0.5975397952022214, 1.11...</td>\n",
       "    </tr>\n",
       "    <tr>\n",
       "      <th>7</th>\n",
       "      <td>ACN</td>\n",
       "      <td>[0.702792270799572, 1.6999443205598022, 0.5121...</td>\n",
       "    </tr>\n",
       "    <tr>\n",
       "      <th>8</th>\n",
       "      <td>ADBE</td>\n",
       "      <td>[1.1081327004284363, 0.2637588112448539, 2.090...</td>\n",
       "    </tr>\n",
       "    <tr>\n",
       "      <th>9</th>\n",
       "      <td>ADI</td>\n",
       "      <td>[0.5112321590414718, 2.4749178330342025, 0.182...</td>\n",
       "    </tr>\n",
       "    <tr>\n",
       "      <th>10</th>\n",
       "      <td>ADM</td>\n",
       "      <td>[0.4801423443221319, 0.08699633737629665, 0.67...</td>\n",
       "    </tr>\n",
       "  </tbody>\n",
       "</table>\n",
       "</div>"
      ],
      "text/plain": [
       "   Company                                        perc_change\n",
       "0        A  [0.4773218052326546, 1.0051671761984158, 1.827...\n",
       "1     AAPL  [1.702617183838854, 0.9484672021502785, 0.1951...\n",
       "2     ABBV  [1.011124035815082, 4.442714837058878, 0.69974...\n",
       "3     ABEV  [0.7025810290951009, 0.2347359508779906, 0.689...\n",
       "5      ABT  [1.1459365284516383, 0.1623194184859994, 0.026...\n",
       "6     ACGL  [0.38910046417311844, 0.5975397952022214, 1.11...\n",
       "7      ACN  [0.702792270799572, 1.6999443205598022, 0.5121...\n",
       "8     ADBE  [1.1081327004284363, 0.2637588112448539, 2.090...\n",
       "9      ADI  [0.5112321590414718, 2.4749178330342025, 0.182...\n",
       "10     ADM  [0.4801423443221319, 0.08699633737629665, 0.67..."
      ]
     },
     "execution_count": 17,
     "metadata": {},
     "output_type": "execute_result"
    }
   ],
   "source": [
    "df1_initial['perc_change'] = abs(((df1_initial['Close'] - df1_initial['Open']) / df1_initial['Open']) * 100.0)\n",
    "\n",
    "changes_df = df1_initial.groupby('Company')['perc_change'].apply(list).reset_index()\n",
    "\n",
    "changes_df['length'] = changes_df['perc_change'].apply(len)\n",
    "full_length = changes_df['length'].max()\n",
    "final_df = changes_df[changes_df['length'] == full_length].drop(columns=['length'])\n",
    "\n",
    "final_df.head(10)\n"
   ]
  },
  {
   "cell_type": "code",
   "execution_count": null,
   "metadata": {},
   "outputs": [
    {
     "ename": "",
     "evalue": "",
     "output_type": "error",
     "traceback": [
      "\u001b[1;31mRunning cells with '/opt/homebrew/bin/python3' requires the ipykernel package.\n",
      "\u001b[1;31mRun the following command to install 'ipykernel' into the Python environment. \n",
      "\u001b[1;31mCommand: '/opt/homebrew/bin/python3 -m pip install ipykernel -U --user --force-reinstall'"
     ]
    }
   ],
   "source": [
    "X = np.array(final_df['perc_change'].tolist())\n",
    "pca = PCA(n_components=250) \n",
    "X_pca = pca.fit_transform(X)\n",
    "\n",
    "kmeans = KMeans(n_clusters=11, random_state=24) # use of 11 explained in writing above\n",
    "cluster_labels = kmeans.fit_predict(X_pca)\n",
    "\n",
    "silh_score = silhouette_score(X_pca, cluster_labels)\n",
    "print('silhouette score:', silh_score)\n",
    "\n",
    "plt.scatter(X_pca[:, 0], X_pca[:, 1], c=cluster_labels, cmap='hsv', alpha=0.6)\n",
    "plt.title('Baseline k-means clustering')\n",
    "plt.xlabel('principal component x direction')\n",
    "plt.ylabel('principal component y direction')\n",
    "plt.colorbar()\n",
    "plt.show()"
   ]
  },
  {
   "cell_type": "markdown",
   "metadata": {},
   "source": [
    "### PCA Analysis\n"
   ]
  },
  {
   "cell_type": "code",
   "execution_count": null,
   "metadata": {},
   "outputs": [],
   "source": [
    "X = np.array(final_df['perc_change'].tolist())\n",
    "pca = PCA()\n",
    "pca.fit(X)\n",
    "\n",
    "# elbow method shown here\n",
    "plt.plot(np.cumsum(pca.explained_variance_ratio_))\n",
    "plt.xlabel('Components')\n",
    "plt.ylabel('Variance')\n",
    "plt.title('Variance vs. total components')\n",
    "plt.grid(True)\n",
    "plt.show()\n"
   ]
  },
  {
   "cell_type": "markdown",
   "metadata": {},
   "source": [
    "### Baseline K Means and GMM Models"
   ]
  },
  {
   "cell_type": "code",
   "execution_count": null,
   "metadata": {},
   "outputs": [],
   "source": [
    "X = np.array(final_df['perc_change'].tolist())\n",
    "pca = PCA(n_components=84) \n",
    "X_pca = pca.fit_transform(X)\n",
    "\n",
    "kmeans = KMeans(n_clusters=11, random_state=24) # use of 11 explained in writing above\n",
    "cluster_labels = kmeans.fit_predict(X_pca)\n",
    "\n",
    "silh_score = silhouette_score(X_pca, cluster_labels)\n",
    "print('silhouette score:', silh_score)\n",
    "\n",
    "plt.scatter(X_pca[:, 0], X_pca[:, 1], c=cluster_labels, cmap='hsv', alpha=0.6)\n",
    "plt.title('Baseline k-means clustering')\n",
    "plt.xlabel('principal component x direction')\n",
    "plt.ylabel('principal component y direction')\n",
    "plt.colorbar()\n",
    "plt.show()"
   ]
  },
  {
   "cell_type": "code",
   "execution_count": null,
   "metadata": {},
   "outputs": [],
   "source": [
    "gmm = GaussianMixture(n_components=11, random_state=24)  \n",
    "cluster_labels = gmm.fit_predict(X_pca)\n",
    "\n",
    "silh_score = silhouette_score(X_pca, cluster_labels)\n",
    "print('silhouette score:', silh_score)\n",
    "\n",
    "plt.scatter(X_pca[:, 0], X_pca[:, 1], c=cluster_labels, cmap='hsv', alpha=0.6)\n",
    "plt.title('Baseline GMM clustering')\n",
    "plt.xlabel('principal component x direction')\n",
    "plt.ylabel('principal component y direction')\n",
    "plt.colorbar()\n",
    "plt.show()"
   ]
  },
  {
   "cell_type": "markdown",
   "metadata": {},
   "source": [
    "### Comparison of Cluster Assignment between the two techiniques "
   ]
  },
  {
   "cell_type": "code",
   "execution_count": null,
   "metadata": {},
   "outputs": [],
   "source": [
    "kmeans_labels = kmeans.predict(X_pca)\n",
    "gmm_labels = gmm.predict(X_pca)\n",
    "\n",
    "# Compare the cluster assignments\n",
    "print(\"KMeans cluster assignments:\", kmeans_labels[:10])\n",
    "print(\"GMM cluster assignments:\", gmm_labels[:10])\n",
    "\n",
    "kmeans_silhouette = silhouette_score(X_pca, kmeans_labels)\n",
    "gmm_silhouette = silhouette_score(X_pca, gmm_labels)\n",
    "\n",
    "print(f\"KMeans Silhouette Score: {kmeans_silhouette}\")\n",
    "print(f\"GMM Silhouette Score: {gmm_silhouette}\")"
   ]
  },
  {
   "cell_type": "markdown",
   "metadata": {},
   "source": [
    "### Cross validation and optimization of Baseline GMM and K Means"
   ]
  },
  {
   "cell_type": "code",
   "execution_count": null,
   "metadata": {},
   "outputs": [],
   "source": [
    "silhouette_scores = []\n",
    "\n",
    "# corss validation here, note it is unseeded\n",
    "for n_clusters in range(2, 19):\n",
    "    kmeans = KMeans(n_clusters=n_clusters)\n",
    "    cluster_labels = kmeans.fit_predict(X_pca)\n",
    "    silh_score = silhouette_score(X_pca, cluster_labels)\n",
    "    silhouette_scores += [silh_score]\n",
    "\n",
    "final_cluster_num = np.argmax(silhouette_scores) + 2 # add 2 because corresponding index is left shifted\n",
    "\n",
    "print(\"best # of clusters:\", final_cluster_num)\n",
    "print(\"Corresponding best cross validation silhouette score\", silhouette_scores[final_cluster_num - 2])\n",
    "\n",
    "#kmeans used new found best k param\n",
    "kmeans = KMeans(n_clusters=final_cluster_num, random_state=24)\n",
    "cluster_labels = kmeans.fit_predict(X_pca)\n",
    "\n",
    "#saving labl results for later analysis in finl-df\n",
    "final_df['k-means label'] = cluster_labels\n",
    "\n",
    "plt.scatter(X_pca[:, 0], X_pca[:, 1], c=cluster_labels, cmap='coolwarm', alpha=0.5)\n",
    "plt.title('Tuned k-means Lables')\n",
    "plt.xlabel('Principal Component x direction')\n",
    "plt.ylabel('Principal Component y direction')\n",
    "plt.colorbar()\n",
    "plt.show()\n",
    "\n",
    "# silhoutte score from graphed kmeans clustering\n",
    "final_silhouette_score = silhouette_score(X_pca, cluster_labels)\n",
    "print(\"Silhouette score for graphed clustered:\", final_silhouette_score)"
   ]
  },
  {
   "cell_type": "code",
   "execution_count": null,
   "metadata": {},
   "outputs": [],
   "source": [
    "silhouette_scores = []\n",
    "\n",
    "# cross validation here, note this part is unseeded\n",
    "for n_components in range(2, 19):\n",
    "    gmm = GaussianMixture(n_components=n_components)\n",
    "    cluster_labels = gmm.fit_predict(X_pca)\n",
    "    silh_score = silhouette_score(X_pca, cluster_labels)\n",
    "    silhouette_scores.append(silh_score)\n",
    "\n",
    "final_cluster_num = np.argmax(silhouette_scores) + 2\n",
    "\n",
    "print(\"best # of clusters:\", final_cluster_num)\n",
    "print(\"Corresponding best cross validation silhouette score\", silhouette_scores[final_cluster_num - 2])\n",
    "\n",
    "gmm = GaussianMixture(n_components=final_cluster_num, random_state=24)\n",
    "cluster_labels = gmm.fit_predict(X_pca)\n",
    "\n",
    "# Update final_df with cluster labels\n",
    "final_df['gmm labels'] = cluster_labels\n",
    "\n",
    "# Plot the clustering labels\n",
    "\n",
    "plt.scatter(X_pca[:, 0], X_pca[:, 1], c=cluster_labels, cmap='coolwarm', alpha=0.5)\n",
    "plt.title('Tuned gmm Lables')\n",
    "plt.xlabel('Principal Component x direction')\n",
    "plt.ylabel('Principal Component y direction')\n",
    "plt.colorbar()\n",
    "plt.show()\n",
    "\n",
    "final_silhouette_score = silhouette_score(X_pca, cluster_labels)\n",
    "print(\"Silhouette score for graphed clustered:\", final_silhouette_score)"
   ]
  }
 ],
 "metadata": {
  "kernelspec": {
   "display_name": "Python 3 (ipykernel)",
   "language": "python",
   "name": "python3"
  },
  "language_info": {
   "codemirror_mode": {
    "name": "ipython",
    "version": 3
   },
   "file_extension": ".py",
   "mimetype": "text/x-python",
   "name": "python",
   "nbconvert_exporter": "python",
   "pygments_lexer": "ipython3",
   "version": "3.12.7"
  }
 },
 "nbformat": 4,
 "nbformat_minor": 4
}
