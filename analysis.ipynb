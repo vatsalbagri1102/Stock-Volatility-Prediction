{
 "cells": [
  {
   "cell_type": "markdown",
   "metadata": {},
   "source": [
    "# Stock Volatility \n",
    "\n",
    "#### David Montoto\n",
    "#### Vatsal Bagri"
   ]
  },
  {
   "cell_type": "markdown",
   "metadata": {},
   "source": [
    "About:"
   ]
  },
  {
   "cell_type": "markdown",
   "metadata": {},
   "source": []
  }
 ],
 "metadata": {
  "language_info": {
   "name": "python"
  }
 },
 "nbformat": 4,
 "nbformat_minor": 2
}
